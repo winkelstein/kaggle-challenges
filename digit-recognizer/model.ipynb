{
 "cells": [
  {
   "cell_type": "markdown",
   "id": "e73299fc",
   "metadata": {
    "papermill": {
     "duration": 0.005472,
     "end_time": "2024-03-24T13:55:54.315331",
     "exception": false,
     "start_time": "2024-03-24T13:55:54.309859",
     "status": "completed"
    },
    "tags": []
   },
   "source": [
    "# Imports"
   ]
  },
  {
   "cell_type": "code",
   "execution_count": 1,
   "id": "abdedf04",
   "metadata": {
    "execution": {
     "iopub.execute_input": "2024-03-24T13:55:54.327977Z",
     "iopub.status.busy": "2024-03-24T13:55:54.327010Z",
     "iopub.status.idle": "2024-03-24T13:56:03.207189Z",
     "shell.execute_reply": "2024-03-24T13:56:03.205951Z"
    },
    "papermill": {
     "duration": 8.889507,
     "end_time": "2024-03-24T13:56:03.209991",
     "exception": false,
     "start_time": "2024-03-24T13:55:54.320484",
     "status": "completed"
    },
    "tags": []
   },
   "outputs": [],
   "source": [
    "import torch\n",
    "from torch import nn\n",
    "from torch.utils.data import DataLoader, Dataset\n",
    "import torchvision\n",
    "from torchvision import datasets, transforms, models\n",
    "import numpy as np\n",
    "import pandas as pd\n",
    "\n",
    "import matplotlib.pyplot as plt\n",
    "import seaborn as sns"
   ]
  },
  {
   "cell_type": "markdown",
   "id": "3058fe4c",
   "metadata": {
    "papermill": {
     "duration": 0.004389,
     "end_time": "2024-03-24T13:56:03.219174",
     "exception": false,
     "start_time": "2024-03-24T13:56:03.214785",
     "status": "completed"
    },
    "tags": []
   },
   "source": [
    "# Model"
   ]
  },
  {
   "cell_type": "code",
   "execution_count": 2,
   "id": "2d6bda29",
   "metadata": {
    "execution": {
     "iopub.execute_input": "2024-03-24T13:56:03.230593Z",
     "iopub.status.busy": "2024-03-24T13:56:03.229914Z",
     "iopub.status.idle": "2024-03-24T13:56:03.236299Z",
     "shell.execute_reply": "2024-03-24T13:56:03.235045Z"
    },
    "papermill": {
     "duration": 0.014614,
     "end_time": "2024-03-24T13:56:03.238274",
     "exception": false,
     "start_time": "2024-03-24T13:56:03.223660",
     "status": "completed"
    },
    "tags": []
   },
   "outputs": [],
   "source": [
    "device = \"cpu\"\n",
    "\n",
    "if torch.cuda.is_available():\n",
    "    device = \"cuda\"\n",
    "elif torch.backends.mps.is_available():\n",
    "    device = \"mps\"\n",
    "\n",
    "device = torch.device(device)"
   ]
  },
  {
   "cell_type": "code",
   "execution_count": 3,
   "id": "adc6b572",
   "metadata": {
    "execution": {
     "iopub.execute_input": "2024-03-24T13:56:03.250176Z",
     "iopub.status.busy": "2024-03-24T13:56:03.249508Z",
     "iopub.status.idle": "2024-03-24T13:56:03.617887Z",
     "shell.execute_reply": "2024-03-24T13:56:03.616733Z"
    },
    "papermill": {
     "duration": 0.377466,
     "end_time": "2024-03-24T13:56:03.620597",
     "exception": false,
     "start_time": "2024-03-24T13:56:03.243131",
     "status": "completed"
    },
    "tags": []
   },
   "outputs": [],
   "source": [
    "class MNISTClassifier(nn.Module):\n",
    "    def __init__(self):\n",
    "        super(MNISTClassifier, self).__init__()\n",
    "\n",
    "        self.conv = nn.Sequential(\n",
    "            nn.Conv2d(in_channels=1, out_channels=32, kernel_size=(3,3), stride=1, padding=0),\n",
    "            nn.BatchNorm2d(32),\n",
    "            nn.ReLU(),\n",
    "            nn.Dropout(0.2),\n",
    "\n",
    "            nn.Conv2d(in_channels=32, out_channels=64, kernel_size=(3,3), stride=1, padding=0),\n",
    "            nn.BatchNorm2d(64),\n",
    "            nn.ReLU(),\n",
    "            nn.Dropout(0.2),\n",
    "\n",
    "            nn.MaxPool2d(kernel_size=(2,2), stride=2, padding=0),\n",
    "\n",
    "            nn.Conv2d(in_channels=64, out_channels=128, kernel_size=(3,3), stride=1, padding=0),\n",
    "            nn.BatchNorm2d(128),\n",
    "            nn.ReLU(),\n",
    "            nn.Dropout(0.2),\n",
    "\n",
    "\n",
    "            nn.Conv2d(in_channels=128, out_channels=200, kernel_size=(3,3), stride=1, padding=0),\n",
    "            nn.BatchNorm2d(200),\n",
    "            nn.ReLU(),\n",
    "            nn.Dropout(0.2)\n",
    "         )\n",
    "\n",
    "        self.flatten = nn.Flatten()\n",
    "        \n",
    "        self.fc = nn.Sequential(\n",
    "            nn.Linear(in_features=64*200, out_features=2048),\n",
    "            nn.BatchNorm1d(num_features=2048),\n",
    "            nn.Linear(in_features=2048, out_features=10),\n",
    "            nn.BatchNorm1d(num_features=10)\n",
    "        )\n",
    "\n",
    "    def forward(self, x: torch.Tensor) -> torch.Tensor:\n",
    "        x = self.conv(x)\n",
    "        x = self.flatten(x)\n",
    "        y = self.fc(x)\n",
    "        return y\n",
    "    \n",
    "model = MNISTClassifier().to(device)"
   ]
  },
  {
   "cell_type": "markdown",
   "id": "5092cc25",
   "metadata": {
    "papermill": {
     "duration": 0.004593,
     "end_time": "2024-03-24T13:56:03.630619",
     "exception": false,
     "start_time": "2024-03-24T13:56:03.626026",
     "status": "completed"
    },
    "tags": []
   },
   "source": [
    "# Load dataset"
   ]
  },
  {
   "cell_type": "code",
   "execution_count": 4,
   "id": "ec9776cc",
   "metadata": {
    "execution": {
     "iopub.execute_input": "2024-03-24T13:56:03.641674Z",
     "iopub.status.busy": "2024-03-24T13:56:03.641199Z",
     "iopub.status.idle": "2024-03-24T13:56:03.649195Z",
     "shell.execute_reply": "2024-03-24T13:56:03.648391Z"
    },
    "papermill": {
     "duration": 0.015946,
     "end_time": "2024-03-24T13:56:03.651049",
     "exception": false,
     "start_time": "2024-03-24T13:56:03.635103",
     "status": "completed"
    },
    "tags": []
   },
   "outputs": [],
   "source": [
    "class MNISTDataset(Dataset):\n",
    "    def __init__(self, path, transform=None):\n",
    "        super(MNISTDataset, self).__init__()\n",
    "\n",
    "        data = pd.read_csv(path)\n",
    "        self.images = data.values[:,1:].reshape((-1, 28, 28))\n",
    "        self.labels = data.values[:,0].reshape((-1, 1))\n",
    "        self.transform = transform\n",
    "\n",
    "    def __len__(self):\n",
    "        return len(self.labels)\n",
    "    \n",
    "    def __getitem__(self, idx):\n",
    "        image = np.reshape(self.images[idx], (28, 28, 1)).astype(np.float32)\n",
    "        label = torch.tensor(self.labels[idx]).squeeze()\n",
    "\n",
    "        if self.transform:\n",
    "            image = self.transform(image)\n",
    "\n",
    "        return image, label"
   ]
  },
  {
   "cell_type": "code",
   "execution_count": 5,
   "id": "d7effc46",
   "metadata": {
    "execution": {
     "iopub.execute_input": "2024-03-24T13:56:03.662149Z",
     "iopub.status.busy": "2024-03-24T13:56:03.661751Z",
     "iopub.status.idle": "2024-03-24T13:56:07.398157Z",
     "shell.execute_reply": "2024-03-24T13:56:07.397251Z"
    },
    "papermill": {
     "duration": 3.745091,
     "end_time": "2024-03-24T13:56:07.400840",
     "exception": false,
     "start_time": "2024-03-24T13:56:03.655749",
     "status": "completed"
    },
    "tags": []
   },
   "outputs": [],
   "source": [
    "train_dataset = MNISTDataset(\"data/train.csv\", transform=transforms.ToTensor())\n",
    "\n",
    "train_loader = DataLoader(train_dataset,\n",
    "                          batch_size=32,\n",
    "                          shuffle=False)"
   ]
  },
  {
   "cell_type": "code",
   "execution_count": 6,
   "id": "c224da58",
   "metadata": {
    "execution": {
     "iopub.execute_input": "2024-03-24T13:56:07.413132Z",
     "iopub.status.busy": "2024-03-24T13:56:07.412004Z",
     "iopub.status.idle": "2024-03-24T13:56:07.759991Z",
     "shell.execute_reply": "2024-03-24T13:56:07.758536Z"
    },
    "papermill": {
     "duration": 0.356868,
     "end_time": "2024-03-24T13:56:07.762547",
     "exception": false,
     "start_time": "2024-03-24T13:56:07.405679",
     "status": "completed"
    },
    "tags": []
   },
   "outputs": [
    {
     "data": {
      "text/plain": [
       "<matplotlib.image.AxesImage at 0x7954696e9ea0>"
      ]
     },
     "execution_count": 6,
     "metadata": {},
     "output_type": "execute_result"
    },
    {
     "data": {
      "image/png": "[encoded data removed]",
      "text/plain": [
       "<Figure size 640x480 with 1 Axes>"
      ]
     },
     "metadata": {},
     "output_type": "display_data"
    }
   ],
   "source": [
    "(image, label) = next(iter(train_loader))\n",
    "plt.title(label[0].numpy())\n",
    "plt.imshow(image[0].squeeze(), cmap='binary')"
   ]
  },
  {
   "cell_type": "markdown",
   "id": "325aa0b1",
   "metadata": {
    "papermill": {
     "duration": 0.005143,
     "end_time": "2024-03-24T13:56:07.773502",
     "exception": false,
     "start_time": "2024-03-24T13:56:07.768359",
     "status": "completed"
    },
    "tags": []
   },
   "source": [
    "# Train"
   ]
  },
  {
   "cell_type": "code",
   "execution_count": 7,
   "id": "ab975609",
   "metadata": {
    "execution": {
     "iopub.execute_input": "2024-03-24T13:56:07.786402Z",
     "iopub.status.busy": "2024-03-24T13:56:07.785902Z",
     "iopub.status.idle": "2024-03-24T13:56:07.794434Z",
     "shell.execute_reply": "2024-03-24T13:56:07.793039Z"
    },
    "papermill": {
     "duration": 0.017858,
     "end_time": "2024-03-24T13:56:07.796792",
     "exception": false,
     "start_time": "2024-03-24T13:56:07.778934",
     "status": "completed"
    },
    "tags": []
   },
   "outputs": [],
   "source": [
    "def train_epoch(model, optimizer, loss_fn):\n",
    "    model.train()\n",
    "\n",
    "    for batch, (X, y) in enumerate(train_loader):\n",
    "        X, y = X.to(device), y.to(device)\n",
    "\n",
    "        outputs = model(X)\n",
    "        loss = loss_fn(outputs, y)\n",
    "\n",
    "        optimizer.zero_grad()\n",
    "        loss.backward()\n",
    "        optimizer.step()\n",
    "\n",
    "        if batch % 1000 == 0:\n",
    "            loss = loss.item()\n",
    "            print(f\"\\tloss: {loss}\")\n",
    "\n",
    "    "
   ]
  },
  {
   "cell_type": "code",
   "execution_count": 8,
   "id": "1807101a",
   "metadata": {
    "execution": {
     "iopub.execute_input": "2024-03-24T13:56:07.809559Z",
     "iopub.status.busy": "2024-03-24T13:56:07.808947Z",
     "iopub.status.idle": "2024-03-24T13:56:07.815496Z",
     "shell.execute_reply": "2024-03-24T13:56:07.814325Z"
    },
    "papermill": {
     "duration": 0.015445,
     "end_time": "2024-03-24T13:56:07.817605",
     "exception": false,
     "start_time": "2024-03-24T13:56:07.802160",
     "status": "completed"
    },
    "tags": []
   },
   "outputs": [],
   "source": [
    "EPOCHS = 10\n",
    "LEARNING_RATE = 1e-3\n",
    "\n",
    "optimizer = torch.optim.SGD(model.parameters(), lr=LEARNING_RATE)\n",
    "loss_fn = nn.CrossEntropyLoss()"
   ]
  },
  {
   "cell_type": "code",
   "execution_count": 9,
   "id": "64db3dc5",
   "metadata": {
    "execution": {
     "iopub.execute_input": "2024-03-24T13:56:07.829781Z",
     "iopub.status.busy": "2024-03-24T13:56:07.829341Z",
     "iopub.status.idle": "2024-03-24T14:44:19.188279Z",
     "shell.execute_reply": "2024-03-24T14:44:19.187039Z"
    },
    "papermill": {
     "duration": 2891.368313,
     "end_time": "2024-03-24T14:44:19.191209",
     "exception": false,
     "start_time": "2024-03-24T13:56:07.822896",
     "status": "completed"
    },
    "tags": []
   },
   "outputs": [
    {
     "name": "stdout",
     "output_type": "stream",
     "text": [
      "Epoch 1\n",
      "\tloss: 2.86509108543396\n",
      "\tloss: 0.6250989437103271\n",
      "Epoch 2\n",
      "\tloss: 0.4592243432998657\n",
      "\tloss: 0.4726385772228241\n",
      "Epoch 3\n",
      "\tloss: 0.3628130853176117\n",
      "\tloss: 0.39375418424606323\n",
      "Epoch 4\n",
      "\tloss: 0.30256539583206177\n",
      "\tloss: 0.3097207248210907\n",
      "Epoch 5\n",
      "\tloss: 0.23011913895606995\n",
      "\tloss: 0.27354925870895386\n",
      "Epoch 6\n",
      "\tloss: 0.2111397534608841\n",
      "\tloss: 0.24947227537631989\n",
      "Epoch 7\n",
      "\tloss: 0.19143760204315186\n",
      "\tloss: 0.2180376797914505\n",
      "Epoch 8\n",
      "\tloss: 0.1778251975774765\n",
      "\tloss: 0.19863225519657135\n",
      "Epoch 9\n",
      "\tloss: 0.14938735961914062\n",
      "\tloss: 0.18698932230472565\n",
      "Epoch 10\n",
      "\tloss: 0.14356975257396698\n",
      "\tloss: 0.155472993850708\n"
     ]
    }
   ],
   "source": [
    "for epoch in range(1, EPOCHS+1):\n",
    "    print(f\"Epoch {epoch}\")\n",
    "    model.train()\n",
    "\n",
    "    train_epoch(model, optimizer, loss_fn)"
   ]
  },
  {
   "cell_type": "markdown",
   "id": "e358ba6d",
   "metadata": {
    "papermill": {
     "duration": 0.006732,
     "end_time": "2024-03-24T14:44:19.205460",
     "exception": false,
     "start_time": "2024-03-24T14:44:19.198728",
     "status": "completed"
    },
    "tags": []
   },
   "source": [
    "# Submit"
   ]
  },
  {
   "cell_type": "code",
   "execution_count": 10,
   "id": "bab37734",
   "metadata": {
    "execution": {
     "iopub.execute_input": "2024-03-24T14:44:19.221841Z",
     "iopub.status.busy": "2024-03-24T14:44:19.221395Z",
     "iopub.status.idle": "2024-03-24T14:44:19.229431Z",
     "shell.execute_reply": "2024-03-24T14:44:19.228180Z"
    },
    "papermill": {
     "duration": 0.018912,
     "end_time": "2024-03-24T14:44:19.231489",
     "exception": false,
     "start_time": "2024-03-24T14:44:19.212577",
     "status": "completed"
    },
    "tags": []
   },
   "outputs": [],
   "source": [
    "class MNISTSubmissionDataset(Dataset):\n",
    "    def __init__(self, path, transform):\n",
    "        super(MNISTSubmissionDataset, self).__init__()\n",
    "\n",
    "        data = pd.read_csv(path)\n",
    "        self.images = data.values[:,:].reshape((-1, 28, 28))\n",
    "        self.transform = transform\n",
    "\n",
    "    def __len__(self):\n",
    "        return len(self.images)\n",
    "    \n",
    "    def __getitem__(self, idx):\n",
    "        image = np.reshape(self.images[idx], (28, 28, 1)).astype(np.float32)\n",
    "        if self.transform:\n",
    "            image = self.transform(image)\n",
    "\n",
    "        return image"
   ]
  },
  {
   "cell_type": "code",
   "execution_count": 11,
   "id": "c714a94c",
   "metadata": {
    "execution": {
     "iopub.execute_input": "2024-03-24T14:44:19.248359Z",
     "iopub.status.busy": "2024-03-24T14:44:19.247920Z",
     "iopub.status.idle": "2024-03-24T14:44:21.783006Z",
     "shell.execute_reply": "2024-03-24T14:44:21.781837Z"
    },
    "papermill": {
     "duration": 2.546878,
     "end_time": "2024-03-24T14:44:21.785802",
     "exception": false,
     "start_time": "2024-03-24T14:44:19.238924",
     "status": "completed"
    },
    "tags": []
   },
   "outputs": [],
   "source": [
    "submission_dataset = MNISTSubmissionDataset(\"data/test.csv\", transform=transforms.ToTensor())\n",
    "submission_loader = DataLoader(submission_dataset,\n",
    "                                batch_size=1,\n",
    "                                shuffle=False)"
   ]
  },
  {
   "cell_type": "code",
   "execution_count": 12,
   "id": "87a87700",
   "metadata": {
    "execution": {
     "iopub.execute_input": "2024-03-24T14:44:21.802200Z",
     "iopub.status.busy": "2024-03-24T14:44:21.801781Z",
     "iopub.status.idle": "2024-03-24T14:44:21.821204Z",
     "shell.execute_reply": "2024-03-24T14:44:21.819974Z"
    },
    "papermill": {
     "duration": 0.031452,
     "end_time": "2024-03-24T14:44:21.824435",
     "exception": false,
     "start_time": "2024-03-24T14:44:21.792983",
     "status": "completed"
    },
    "tags": []
   },
   "outputs": [],
   "source": [
    "sample_submission = pd.read_csv(\"data/sample_submission.csv\")"
   ]
  },
  {
   "cell_type": "code",
   "execution_count": 13,
   "id": "c1ae2174",
   "metadata": {
    "execution": {
     "iopub.execute_input": "2024-03-24T14:44:21.842170Z",
     "iopub.status.busy": "2024-03-24T14:44:21.841739Z",
     "iopub.status.idle": "2024-03-24T14:48:50.534765Z",
     "shell.execute_reply": "2024-03-24T14:48:50.533323Z"
    },
    "papermill": {
     "duration": 268.705346,
     "end_time": "2024-03-24T14:48:50.537817",
     "exception": false,
     "start_time": "2024-03-24T14:44:21.832471",
     "status": "completed"
    },
    "tags": []
   },
   "outputs": [],
   "source": [
    "model.eval()\n",
    "for batch, (X) in enumerate(submission_loader):\n",
    "    X = X.to(device)\n",
    "    with torch.no_grad():\n",
    "        preds = model(X)\n",
    "\n",
    "        predicted_class = preds.argmax().cpu().numpy()\n",
    "\n",
    "        start_index = batch * submission_loader.batch_size\n",
    "        end_index = min(start_index + submission_loader.batch_size, len(sample_submission))\n",
    "        sample_submission.iloc[start_index:end_index, 1] = predicted_class"
   ]
  },
  {
   "cell_type": "code",
   "execution_count": 14,
   "id": "51839bcf",
   "metadata": {
    "execution": {
     "iopub.execute_input": "2024-03-24T14:48:50.556044Z",
     "iopub.status.busy": "2024-03-24T14:48:50.555301Z",
     "iopub.status.idle": "2024-03-24T14:48:50.589393Z",
     "shell.execute_reply": "2024-03-24T14:48:50.587701Z"
    },
    "papermill": {
     "duration": 0.046847,
     "end_time": "2024-03-24T14:48:50.592454",
     "exception": false,
     "start_time": "2024-03-24T14:48:50.545607",
     "status": "completed"
    },
    "tags": []
   },
   "outputs": [],
   "source": [
    "sample_submission = sample_submission.set_index(\"ImageId\")\n",
    "sample_submission.to_csv(\"data/submission.csv\")"
   ]
  }
 ],
 "metadata": {
  "kaggle": {
   "accelerator": "none",
   "dataSources": [
    {
     "databundleVersionId": 861823,
     "sourceId": 3004,
     "sourceType": "competition"
    }
   ],
   "dockerImageVersionId": 30673,
   "isGpuEnabled": false,
   "isInternetEnabled": false,
   "language": "python",
   "sourceType": "notebook"
  },
  "kernelspec": {
   "display_name": "Python 3",
   "language": "python",
   "name": "python3"
  },
  "language_info": {
   "codemirror_mode": {
    "name": "ipython",
    "version": 3
   },
   "file_extension": ".py",
   "mimetype": "text/x-python",
   "name": "python",
   "nbconvert_exporter": "python",
   "pygments_lexer": "ipython3",
   "version": "3.10.13"
  },
  "papermill": {
   "default_parameters": {},
   "duration": 3181.418525,
   "end_time": "2024-03-24T14:48:52.632311",
   "environment_variables": {},
   "exception": null,
   "input_path": "__notebook__.ipynb",
   "output_path": "__notebook__.ipynb",
   "parameters": {},
   "start_time": "2024-03-24T13:55:51.213786",
   "version": "2.5.0"
  }
 },
 "nbformat": 4,
 "nbformat_minor": 5
}
